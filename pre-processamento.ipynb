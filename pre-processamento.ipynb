{
 "cells": [
  {
   "cell_type": "markdown",
   "metadata": {},
   "source": [
    "ETAPA DE PRÉ-PROCESSAMENTO DOS DADOS\n",
    "\n",
    "Os dados utilizados foram retirados da base de dados abertos da Polícia Federal.\n",
    "\n",
    "Os dados podem ser obtidos através do link: https://servicos.dpf.gov.br/dadosabertos/SINARM_CSV/OCORRENCIAS/"
   ]
  },
  {
   "cell_type": "markdown",
   "metadata": {},
   "source": [
    "Importação de bibliotecas"
   ]
  },
  {
   "cell_type": "code",
   "execution_count": 5,
   "metadata": {},
   "outputs": [],
   "source": [
    "import pandas as pd\n",
    "import matplotlib.pyplot as plt\n",
    "import numpy as np\n",
    "import chardet"
   ]
  },
  {
   "cell_type": "markdown",
   "metadata": {
    "notebookRunGroups": {
     "groupValue": "1"
    }
   },
   "source": [
    "Carregando os dados"
   ]
  },
  {
   "cell_type": "code",
   "execution_count": 6,
   "metadata": {
    "notebookRunGroups": {
     "groupValue": "1"
    }
   },
   "outputs": [
    {
     "name": "stdout",
     "output_type": "stream",
     "text": [
      "ISO-8859-1\n"
     ]
    }
   ],
   "source": [
    "#Encontrar o tipo de formatação dos dados\n",
    "\n",
    "with open(\"OCORRENCIAS_2024.csv\", \"rb\") as f:\n",
    "    result = chardet.detect(f.read(100000))  # Lê os primeiros 100.000 bytes\n",
    "    print(result[\"encoding\"])"
   ]
  },
  {
   "cell_type": "code",
   "execution_count": 15,
   "metadata": {},
   "outputs": [],
   "source": [
    "#Transformar o padrão de codificação dos caracteres\n",
    "\n",
    "with open(\"OCORRENCIAS_2024.csv\", \"r\", encoding=\"ISO-8859-1\") as f:\n",
    "    conteudo = f.read()\n",
    "\n",
    "with open(\"OCORRENCIAS_2024_utf8.csv\", \"w\", encoding=\"utf-8\") as f:\n",
    "    f.write(conteudo)\n"
   ]
  },
  {
   "cell_type": "code",
   "execution_count": 21,
   "metadata": {},
   "outputs": [],
   "source": [
    "#Carregamento dos dados\n",
    "dados = pd.read_csv(\"OCORRENCIAS_2024_utf8.csv\", encoding=\"utf-8\", sep=\";\") #Separador dos dados \";\""
   ]
  },
  {
   "cell_type": "markdown",
   "metadata": {},
   "source": []
  }
 ],
 "metadata": {
  "kernelspec": {
   "display_name": "Python 3",
   "language": "python",
   "name": "python3"
  },
  "language_info": {
   "codemirror_mode": {
    "name": "ipython",
    "version": 3
   },
   "file_extension": ".py",
   "mimetype": "text/x-python",
   "name": "python",
   "nbconvert_exporter": "python",
   "pygments_lexer": "ipython3",
   "version": "3.11.9"
  }
 },
 "nbformat": 4,
 "nbformat_minor": 2
}
